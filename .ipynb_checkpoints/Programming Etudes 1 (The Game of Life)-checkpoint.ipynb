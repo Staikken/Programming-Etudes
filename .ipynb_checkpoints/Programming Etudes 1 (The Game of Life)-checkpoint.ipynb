{
 "cells": [
  {
   "cell_type": "markdown",
   "metadata": {},
   "source": [
    "## Etude 1 - The Game of Life (Cellular automata and computer graphics)\n",
    "\n",
    "A LIFE community is a made up of cells that inhabit a square array. Every generation new cells may be born and old cells may die. A cell dies if it is lonely, that is it only has one neighbor (in the eight squares immediately surrounding it) or if it gets over crowded, if there are more than three neighbors. A new cell may be born only if there is an empty square with exactly three neighboring cells.\n",
    "\n",
    "Challenge: Write a program that simulates a LIFE community. The input should be the initial positions of the communitiy's cells and the putput and aerial view of the community at each generation. \n",
    "\n",
    "Notes: Some communities grow enormously from small beginnings.  Others transport themselves slowly across the plane. Your program should be able to handle large communities without a terrific cost in space or time.\n"
   ]
  },
  {
   "cell_type": "markdown",
   "metadata": {},
   "source": [
    "###  Initial thoughts\n",
    "\n",
    "In this first go I've not read any related literature on cellular automata or done any performance tuning.\n",
    "\n",
    "Keeping everything in an array will likely include a lot of irrelivant squares. Given a set of active points (xy coordinates) you have the initial active points, all of their neighboring points and if any of those neighboring points are empty, their neighboring points. You need that last category to evaluate the potential new cell locations. \n",
    "Therefore the max number of locations you need to keep track of is 25n for n active locations. In all likelyhood however many of these locations will overlap. \n",
    "\n",
    "The mechanics of the simulation are modeled in the LIFEstate class and the animation details are handled in the Animate class which is then passed to the Matplotlib function FuncAnimation."
   ]
  },
  {
   "cell_type": "code",
   "execution_count": 1,
   "metadata": {
    "collapsed": true
   },
   "outputs": [],
   "source": [
    "import numpy as np\n",
    "import pandas as pd\n",
    "import itertools\n",
    "import matplotlib.pyplot as plt\n",
    "from matplotlib.animation import FuncAnimation"
   ]
  },
  {
   "cell_type": "code",
   "execution_count": 2,
   "metadata": {
    "collapsed": true
   },
   "outputs": [],
   "source": [
    "class LIFEstate(object):\n",
    "    def __init__(self, starting_locations):\n",
    "        self.locations = starting_locations\n",
    "        \n",
    "    def get_neighbors(self, location):\n",
    "        for n , m in itertools.product([-1, 0, 1], [-1, 0, 1]):\n",
    "            if  (n == 0 and m == 0):\n",
    "                continue\n",
    "            yield location[0] + n, location[1] + m\n",
    "            \n",
    "    def get_all_locations(self, active_locations):\n",
    "        nearby_locations = dict((k,1) for k in active_locations)\n",
    "        for location in active_locations:  \n",
    "            for neighbor in self.get_neighbors(location):\n",
    "                if (neighbor in active_locations):\n",
    "                    continue\n",
    "                nearby_locations[neighbor] = 0\n",
    "            \n",
    "        all_locations = nearby_locations.copy()\n",
    "        for location in nearby_locations:\n",
    "            if(nearby_locations[location] == 1):\n",
    "                continue\n",
    "            for neighbor in self.get_neighbors(location):\n",
    "                if(neighbor in nearby_locations):\n",
    "                    continue\n",
    "                all_locations[neighbor] = -1\n",
    "        return all_locations    \n",
    "\n",
    "    def evaluate_next_generation(self, all_locations):\n",
    "        new_active_locations = {}\n",
    "        for location in all_locations:\n",
    "            if(all_locations[location] == -1):\n",
    "                continue\n",
    "            if(all_locations[location] == 0):\n",
    "                count = 0\n",
    "                for neighbor in self.get_neighbors(location):\n",
    "                    if(all_locations[neighbor] == 1):\n",
    "                        count += 1\n",
    "                if(count == 3):\n",
    "                    new_active_locations[location] = 1\n",
    "            if(all_locations[location] == 1):\n",
    "                count = 0\n",
    "                for neighbor in self.get_neighbors(location):\n",
    "                    if(all_locations[neighbor] == 1):\n",
    "                        count += 1\n",
    "                if(count == 2 or count == 3):\n",
    "                    new_active_locations[location] = 1\n",
    "        return list(new_active_locations.keys())\n",
    "    \n",
    "    def get_next_generation(self):\n",
    "        all_locations = self.get_all_locations(self.locations)\n",
    "        new_active_locations = self.evaluate_next_generation(all_locations)\n",
    "        self.locations = new_active_locations\n",
    "        return self.locations"
   ]
  },
  {
   "cell_type": "code",
   "execution_count": 57,
   "metadata": {
    "collapsed": false
   },
   "outputs": [],
   "source": [
    "class Animate(object):\n",
    "    def __init__(self, ax, LIFEstate):\n",
    "        self.lifestate = LIFEstate\n",
    "        self.x, self.y = zip(*self.lifestate.locations)\n",
    "        self.frame, = ax.plot([],[], 'o', markersize = 17) \n",
    "        self.ax = ax\n",
    "        self.padding = 3\n",
    "    \n",
    "    def adjust_view(self):\n",
    "        xmin = np.min(self.x) - self.padding\n",
    "        xmax = np.max(self.x) + self.padding\n",
    "        ymin = np.min(self.y) - self.padding\n",
    "        ymax = np.max(self.y) + self.padding\n",
    "        \n",
    "        self.ax.set_xlim(xmin, xmax)\n",
    "        self.ax.set_ylim(ymin, ymax)\n",
    "        \n",
    "    \n",
    "    def __call__(self, i):\n",
    "        try:\n",
    "            self.x, self.y = zip(*self.lifestate.get_next_generation())\n",
    "        except ValueError:\n",
    "            self.frame.set_data([],[]) \n",
    "            return self.frame,\n",
    "\n",
    "        self.adjust_view()\n",
    "        self.frame.set_data(self.x,self.y)\n",
    "        \n",
    "        return self.frame,\n"
   ]
  },
  {
   "cell_type": "code",
   "execution_count": 59,
   "metadata": {
    "collapsed": false
   },
   "outputs": [],
   "source": [
    "fig, ax = plt.subplots()\n",
    "lifestate = LIFEstate([(0,0), (1,0), (1,1), (1, -1), (2,0), (2,1), (2,2)])\n",
    "a = Animate(ax, lifestate)\n",
    "anim = FuncAnimation(fig, a, frames=np.arange(100), interval=100, blit=True)\n",
    "plt.show()"
   ]
  },
  {
   "cell_type": "code",
   "execution_count": null,
   "metadata": {
    "collapsed": true
   },
   "outputs": [],
   "source": [
    "#Some interesting starts\n",
    "# [(0,0), (0,1), (1,1), (0,2), (2,2), (3,3), (4,4), (5,5)]\n",
    "# [(0,0), (1,0), (1,1), (1, -1), (2,0), (2,1), (2,2)]\n",
    "#[(0,0), (0,1), (0,2),(0,3), (0,4), (0,5),(1,0), (1,1), (1,2),(1,3), (1,4), (1,5), (2,0), (2,1), (2,2),(2,3), (2,4), (2,5)]"
   ]
  },
  {
   "cell_type": "markdown",
   "metadata": {},
   "source": [
    "### Thoughts for refinement / other features:\n",
    "\n",
    "I'm making heavy use of the generator get_neighbors and then looking up locations in a dictionary. I wonder if there is some sort of graph structure that might better store the relationships rather than generating the key and looking it up every time. \n",
    "\n",
    "Would like to add some better analysis for finding interesting evolutions - things like finding steady states or patterns that behave in predictable ways. Perhaps other ways of coloring the animation that give more intuition on the process.\n",
    "\n",
    "Also the Animate class is muddy, has some duplicate code and ugly looking type translations\n",
    "\n",
    "#### References listed in book:\n",
    "\n",
    "Burks, Aurthur W. (Ed.) Essays on Cellular Automata. University of Illinois Press, Urbana, IL, 1970\n",
    "\n",
    "Codd, E. F. Cellular Automata, Academic Press, New York, NY, 1968\n",
    "\n",
    "Gardner, Martin \"Mathematical Games\" Scientific American, 223, 10, pp. 120-123, October 1970, and 224, 2, pp. 112-117, February 1971\n",
    "\n",
    "Wainwright, Rovert T. (Ed.) Lifeline, 1280 Edcris Road,  Yorktown Heights, NY 10598."
   ]
  }
 ],
 "metadata": {
  "kernelspec": {
   "display_name": "Python 3",
   "language": "python",
   "name": "python3"
  },
  "language_info": {
   "codemirror_mode": {
    "name": "ipython",
    "version": 3
   },
   "file_extension": ".py",
   "mimetype": "text/x-python",
   "name": "python",
   "nbconvert_exporter": "python",
   "pygments_lexer": "ipython3",
   "version": "3.5.2"
  }
 },
 "nbformat": 4,
 "nbformat_minor": 0
}
