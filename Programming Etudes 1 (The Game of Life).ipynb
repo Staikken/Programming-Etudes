{
 "cells": [
  {
   "cell_type": "code",
   "execution_count": 200,
   "metadata": {
    "collapsed": true
   },
   "outputs": [],
   "source": [
    "import numpy as np\n",
    "import pandas as pd\n",
    "import itertools\n",
    "import matplotlib.pyplot as plt\n",
    "from matplotlib.animation import FuncAnimation"
   ]
  },
  {
   "cell_type": "code",
   "execution_count": 211,
   "metadata": {
    "collapsed": true
   },
   "outputs": [],
   "source": [
    "class LIFEstate(object):\n",
    "    def __init__(self, starting_locations):\n",
    "        self.locations = starting_locations\n",
    "        \n",
    "    def get_neighbors(self, location):\n",
    "        for n , m in itertools.product([-1, 0, 1], [-1, 0, 1]):\n",
    "            if  (n == 0 and m == 0):\n",
    "                continue\n",
    "            yield location[0] + n, location[1] + m\n",
    "            \n",
    "    def get_all_locations(self, active_locations):\n",
    "        nearby_locations = dict((k,1) for k in active_locations)\n",
    "        for location in active_locations:  \n",
    "            for neighbor in self.get_neighbors(location):\n",
    "                if (neighbor in active_locations):\n",
    "                    continue\n",
    "                nearby_locations[neighbor] = 0\n",
    "            \n",
    "        all_locations = nearby_locations.copy()\n",
    "        for location in nearby_locations:\n",
    "            if(nearby_locations[location] == 1):\n",
    "                continue\n",
    "            for neighbor in self.get_neighbors(location):\n",
    "                if(neighbor in nearby_locations):\n",
    "                    continue\n",
    "                all_locations[neighbor] = -1\n",
    "        return all_locations    \n",
    "\n",
    "    def evaluate_next_generation(self, all_locations):\n",
    "        new_active_locations = {}\n",
    "        for location in all_locations:\n",
    "            if(all_locations[location] == -1):\n",
    "                continue\n",
    "            if(all_locations[location] == 0):\n",
    "                count = 0\n",
    "                for neighbor in self.get_neighbors(location):\n",
    "                    if(all_locations[neighbor] == 1):\n",
    "                        count += 1\n",
    "                if(count == 3):\n",
    "                    new_active_locations[location] = 1\n",
    "            if(all_locations[location] == 1):\n",
    "                count = 0\n",
    "                for neighbor in self.get_neighbors(location):\n",
    "                    if(all_locations[neighbor] == 1):\n",
    "                        count += 1\n",
    "                if(count == 2 or count == 3):\n",
    "                    new_active_locations[location] = 1\n",
    "        return list(new_active_locations.keys())\n",
    "    \n",
    "    def get_next_generation(self):\n",
    "        all_locations = self.get_all_locations(self.locations)\n",
    "        new_active_locations = self.evaluate_next_generation(all_locations)\n",
    "        self.locations = new_active_locations\n",
    "        return self.locations"
   ]
  },
  {
   "cell_type": "code",
   "execution_count": 212,
   "metadata": {
    "collapsed": false
   },
   "outputs": [],
   "source": [
    "class Automata(object):\n",
    "    def __init__(self, ax, LIFEstate):\n",
    "        self.lifestate = LIFEstate\n",
    "        self.points = LIFEstate.locations\n",
    "        self.frame, = ax.plot([],[], 'o', markersize = 17) #why on earth does this need a comma to go \n",
    "        self.ax = ax\n",
    "        \n",
    "        #plot parameters\n",
    "        self.padding = 3\n",
    "        x = np.array(self.points, (int,int)).transpose()\n",
    "        self.xmin = np.min(x[0]) - self.padding\n",
    "        self.xmax = np.max(x[0]) + self.padding\n",
    "        self.ymin = np.min(x[1]) - self.padding\n",
    "        self.ymax = np.max(x[1]) + self.padding\n",
    "        \n",
    "        self.ax.set_xlim(self.xmin, self.xmax)\n",
    "        self.ax.set_ylim(self.ymin, self.ymax)\n",
    "        \n",
    "    def init(self):\n",
    "        x = np.array(self.points, (int,int)).transpose()\n",
    "        self.frame.set_data(x[0], x[1])\n",
    "        return self.frame,\n",
    "    \n",
    "    def __call__(self, i):\n",
    "        if i == 0:\n",
    "            return self.init()\n",
    "        \n",
    "        self.points = self.state.get_next_generation()\n",
    "        if self.points == []:\n",
    "            self.frame.set_data([],[])\n",
    "            return self.frame,     \n",
    "        \n",
    "        x = np.array(self.points, (int,int)).transpose()\n",
    "        \n",
    "        self.xmin = np.min(x[0]) - self.padding\n",
    "        self.xmax = np.max(x[0]) + self.padding\n",
    "        self.ymin = np.min(x[1]) - self.padding\n",
    "        self.ymax = np.max(x[1]) + self.padding\n",
    "        \n",
    "        self.ax.set_xlim(self.xmin, self.xmax)\n",
    "        self.ax.set_ylim(self.ymin, self.ymax)\n",
    "        self.frame.set_data(x[0],x[1])\n",
    "        \n",
    "        return self.frame,\n"
   ]
  },
  {
   "cell_type": "code",
   "execution_count": 213,
   "metadata": {
    "collapsed": false
   },
   "outputs": [],
   "source": [
    "fig, ax = plt.subplots()\n",
    "lifestate = LIFEstate([(0,0), (0,1), (1,1), (0,2), (2,2), (3,3), (4,4), (5,5)])\n",
    "a = Automata(ax, lifestate)\n",
    "anim = FuncAnimation(fig, a, frames=np.arange(100), init_func=a.init,\n",
    "                     interval=100, blit=True)\n",
    "plt.show()"
   ]
  },
  {
   "cell_type": "code",
   "execution_count": null,
   "metadata": {
    "collapsed": true
   },
   "outputs": [],
   "source": [
    "# [(0,0), (0,1), (1,1), (0,2), (2,2), (3,3), (4,4), (5,5)]\n",
    "#[(0,0), (0,1), (0,2),(0,3), (0,4), (0,5),(1,0), (1,1), (1,2),(1,3), (1,4), (1,5), (2,0), (2,1), (2,2),(2,3), (2,4), (2,5)]"
   ]
  }
 ],
 "metadata": {
  "kernelspec": {
   "display_name": "Python 3",
   "language": "python",
   "name": "python3"
  },
  "language_info": {
   "codemirror_mode": {
    "name": "ipython",
    "version": 3
   },
   "file_extension": ".py",
   "mimetype": "text/x-python",
   "name": "python",
   "nbconvert_exporter": "python",
   "pygments_lexer": "ipython3",
   "version": "3.5.2"
  }
 },
 "nbformat": 4,
 "nbformat_minor": 0
}
